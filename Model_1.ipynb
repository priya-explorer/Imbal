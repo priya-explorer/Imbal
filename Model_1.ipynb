{
 "cells": [
  {
   "cell_type": "code",
   "execution_count": 1,
   "id": "c6a15a4e",
   "metadata": {},
   "outputs": [],
   "source": [
    "# Importing the neccessary libraries \n",
    "import pandas as pd\n",
    "import numpy as np\n",
    "\n",
    "# Warning Suppression \n",
    "import warnings\n",
    "warnings.filterwarnings('ignore')\n",
    "\n",
    "### Setting Display options to ensure feature name visibility\n",
    "pd.set_option('display.max_columns', None)"
   ]
  },
  {
   "cell_type": "markdown",
   "id": "1f3271f7",
   "metadata": {},
   "source": [
    "## Load the Data"
   ]
  },
  {
   "cell_type": "code",
   "execution_count": 2,
   "id": "813b3140",
   "metadata": {},
   "outputs": [],
   "source": [
    "X = pd.read_csv(r'C:\\Users\\priya\\PycharmProjects\\Employee_attrition_project\\Data\\independent_features')"
   ]
  },
  {
   "cell_type": "code",
   "execution_count": 3,
   "id": "26cb8db8",
   "metadata": {},
   "outputs": [],
   "source": [
    "Y = pd.read_csv(r'C:\\Users\\priya\\PycharmProjects\\Employee_attrition_project\\Data\\target_feature')"
   ]
  },
  {
   "cell_type": "markdown",
   "id": "1e67c5f2",
   "metadata": {},
   "source": [
    "# Split the data into test and train sets"
   ]
  },
  {
   "cell_type": "code",
   "execution_count": 4,
   "id": "a44938ae",
   "metadata": {},
   "outputs": [],
   "source": [
    "from sklearn.model_selection import train_test_split "
   ]
  },
  {
   "cell_type": "code",
   "execution_count": 5,
   "id": "2aff0786",
   "metadata": {},
   "outputs": [],
   "source": [
    "#Train Test Split\n",
    "x_train, x_test, y_train, y_test = train_test_split(X, Y, test_size = 0.2, random_state=18, stratify=Y)"
   ]
  },
  {
   "cell_type": "code",
   "execution_count": 6,
   "id": "57bbd2ae",
   "metadata": {
    "scrolled": true
   },
   "outputs": [
    {
     "name": "stdout",
     "output_type": "stream",
     "text": [
      "Shape of Training Data (1176, 37)\n",
      "Shape of Testing Data (294, 37)\n",
      "\n",
      "Attrition Rate in Training Data Attrition    0.161565\n",
      "dtype: float64\n",
      "Attrition Rate in Testing Data Attrition    0.159864\n",
      "dtype: float64\n"
     ]
    }
   ],
   "source": [
    "# To check if the testing data is a representator of the population\n",
    "\n",
    "print(\"Shape of Training Data\", x_train.shape)\n",
    "print(\"Shape of Testing Data\", x_test.shape)\n",
    "print()\n",
    "print(\"Attrition Rate in Training Data\", y_train.mean())\n",
    "print(\"Attrition Rate in Testing Data\", y_test.mean())"
   ]
  },
  {
   "cell_type": "markdown",
   "id": "40693ee0",
   "metadata": {},
   "source": [
    "# Importing necessary libraries for Model Building"
   ]
  },
  {
   "cell_type": "code",
   "execution_count": 7,
   "id": "5b760727",
   "metadata": {},
   "outputs": [],
   "source": [
    "from sklearn.tree import DecisionTreeClassifier\n",
    "from sklearn.ensemble import RandomForestClassifier\n",
    "from sklearn.ensemble import GradientBoostingClassifier\n",
    "\n",
    "from sklearn import metrics\n",
    "from sklearn.metrics import confusion_matrix, ConfusionMatrixDisplay\n",
    "from sklearn.metrics import accuracy_score\n",
    "from sklearn.metrics import roc_curve, auc\n",
    "from sklearn.tree import export_graphviz\n",
    "from sklearn.metrics import classification_report\n",
    "\n",
    "\n",
    "import matplotlib.pyplot as plt\n",
    "from urllib.request import urlopen \n",
    "\n",
    "plt.style.use('ggplot')\n",
    "pd.set_option('display.max_columns', 500) \n",
    "\n"
   ]
  },
  {
   "cell_type": "markdown",
   "id": "efb2a58e",
   "metadata": {},
   "source": [
    "# Building Model\n",
    "# 1. Decision Tree Model"
   ]
  },
  {
   "cell_type": "code",
   "execution_count": 8,
   "id": "bc064d69",
   "metadata": {},
   "outputs": [],
   "source": [
    "# Building a Decision Tree Model\n",
    "model_dt=DecisionTreeClassifier(criterion='gini',random_state=18)"
   ]
  },
  {
   "cell_type": "code",
   "execution_count": 9,
   "id": "9d0d84d7",
   "metadata": {},
   "outputs": [
    {
     "name": "stdout",
     "output_type": "stream",
     "text": [
      "The time taken in grid search:  7.00\n"
     ]
    },
    {
     "data": {
      "text/plain": [
       "('Best Parameters using grid search:',\n",
       " {'max_depth': 5, 'max_features': 'log2', 'min_samples_split': 55})"
      ]
     },
     "execution_count": 9,
     "metadata": {},
     "output_type": "execute_result"
    }
   ],
   "source": [
    "# Find best parameters\n",
    "from func_for_model import gridsearch\n",
    "gridsearch(x_train, y_train, model=model_dt)"
   ]
  },
  {
   "cell_type": "code",
   "execution_count": 10,
   "id": "337ad69a",
   "metadata": {},
   "outputs": [
    {
     "name": "stdout",
     "output_type": "stream",
     "text": [
      "Training score:  0.8469387755102041\n",
      "Testing score:  0.8435374149659864\n"
     ]
    }
   ],
   "source": [
    "# Decision tree with depth = 4\n",
    "model_dt = DecisionTreeClassifier(random_state=18, criterion = \"gini\", max_depth= 5, min_samples_split= 55, max_features=\"log2\")\n",
    "model_dt.fit(x_train, y_train)\n",
    "model_dt_score_train = model_dt.score(x_train, y_train)\n",
    "print(\"Training score: \", model_dt_score_train)\n",
    "model_dt_score_test = model_dt.score(x_test, y_test)\n",
    "print(\"Testing score: \", model_dt_score_test)"
   ]
  },
  {
   "cell_type": "code",
   "execution_count": 11,
   "id": "3f2ed3c3",
   "metadata": {},
   "outputs": [],
   "source": [
    "# Predictions\n",
    "y_pred_dt = model_dt.predict(x_test)"
   ]
  },
  {
   "cell_type": "markdown",
   "id": "8dca5460",
   "metadata": {},
   "source": [
    "## 1.1 Performance Metrics\n",
    "### AUC"
   ]
  },
  {
   "cell_type": "code",
   "execution_count": 12,
   "id": "9b7c01e1",
   "metadata": {},
   "outputs": [
    {
     "data": {
      "text/plain": [
       "0.5623223361185288"
      ]
     },
     "execution_count": 12,
     "metadata": {},
     "output_type": "execute_result"
    }
   ],
   "source": [
    "#Area Under the Curve\n",
    "fpr_dt, tpr_dt, _ = roc_curve(y_test, y_pred_dt)\n",
    "roc_auc_dt = auc(fpr_dt, tpr_dt)\n",
    "roc_auc_dt ## Area Under the Curve"
   ]
  },
  {
   "cell_type": "code",
   "execution_count": 13,
   "id": "e109370a",
   "metadata": {
    "scrolled": false
   },
   "outputs": [
    {
     "data": {
      "image/png": "[encoded data removed]",
      "text/plain": [
       "<Figure size 432x288 with 1 Axes>"
      ]
     },
     "metadata": {},
     "output_type": "display_data"
    }
   ],
   "source": [
    "from func_for_model import auc_chart\n",
    "auc_chart(fpr_dt, tpr_dt, roc_auc_dt)"
   ]
  },
  {
   "cell_type": "markdown",
   "id": "2d98284f",
   "metadata": {},
   "source": [
    "### Confusion Matrix"
   ]
  },
  {
   "cell_type": "code",
   "execution_count": 14,
   "id": "c5d23250",
   "metadata": {},
   "outputs": [
    {
     "data": {
      "image/png": "[encoded data removed]",
      "text/plain": [
       "<Figure size 432x288 with 2 Axes>"
      ]
     },
     "metadata": {},
     "output_type": "display_data"
    }
   ],
   "source": [
    "cm = confusion_matrix(y_test, y_pred_dt)\n",
    "ConfusionMatrixDisplay(cm).plot()\n",
    "plt.show()"
   ]
  },
  {
   "cell_type": "markdown",
   "id": "d67c14aa",
   "metadata": {},
   "source": [
    "### precision, recall,  f1-score "
   ]
  },
  {
   "cell_type": "code",
   "execution_count": 15,
   "id": "8a90941c",
   "metadata": {},
   "outputs": [
    {
     "name": "stdout",
     "output_type": "stream",
     "text": [
      "Accuracy: 0.8435374149659864\n",
      "Precision 0.5384615384615384\n",
      "Recall 0.14893617021276595\n",
      "f1_score 0.23333333333333334\n"
     ]
    }
   ],
   "source": [
    "print(\"Accuracy:\",metrics.accuracy_score(y_test, y_pred_dt))\n",
    "print(\"Precision\",metrics.precision_score(y_test, y_pred_dt))\n",
    "print(\"Recall\",metrics.recall_score(y_test, y_pred_dt))\n",
    "print(\"f1_score\",metrics.f1_score(y_test, y_pred_dt))"
   ]
  },
  {
   "cell_type": "code",
   "execution_count": 16,
   "id": "f9b558e2",
   "metadata": {
    "scrolled": true
   },
   "outputs": [
    {
     "name": "stdout",
     "output_type": "stream",
     "text": [
      "Classification Report\n",
      "               precision    recall  f1-score   support\n",
      "\n",
      "           0       0.86      0.98      0.91       247\n",
      "           1       0.54      0.15      0.23        47\n",
      "\n",
      "    accuracy                           0.84       294\n",
      "   macro avg       0.70      0.56      0.57       294\n",
      "weighted avg       0.81      0.84      0.80       294\n",
      "\n"
     ]
    }
   ],
   "source": [
    "\n",
    "print(\"Classification Report\\n\", classification_report(y_test, y_pred_dt))"
   ]
  },
  {
   "cell_type": "markdown",
   "id": "8671a3bc",
   "metadata": {},
   "source": [
    "                                        ----------------------------------------"
   ]
  },
  {
   "cell_type": "markdown",
   "id": "03c5f6a9",
   "metadata": {},
   "source": [
    "# 2. Random Forest"
   ]
  },
  {
   "cell_type": "code",
   "execution_count": 17,
   "id": "c8de4e9f",
   "metadata": {},
   "outputs": [],
   "source": [
    "# Buidling Random Forest\n",
    "model_rf=RandomForestClassifier(criterion='gini',random_state=18)"
   ]
  },
  {
   "cell_type": "code",
   "execution_count": 18,
   "id": "1a424050",
   "metadata": {},
   "outputs": [
    {
     "name": "stdout",
     "output_type": "stream",
     "text": [
      "The time taken in grid search:  125.28\n"
     ]
    },
    {
     "data": {
      "text/plain": [
       "('Best Parameters using grid search:',\n",
       " {'max_depth': 5, 'max_features': None, 'min_samples_split': 25})"
      ]
     },
     "execution_count": 18,
     "metadata": {},
     "output_type": "execute_result"
    }
   ],
   "source": [
    "# Find best parameters\n",
    "gridsearch(x_train, y_train, model=model_rf)"
   ]
  },
  {
   "cell_type": "code",
   "execution_count": 19,
   "id": "6dd0851a",
   "metadata": {},
   "outputs": [
    {
     "name": "stdout",
     "output_type": "stream",
     "text": [
      "Training score:  0.8801020408163265\n",
      "Testing score:  0.8605442176870748\n"
     ]
    }
   ],
   "source": [
    "rf=RandomForestClassifier(criterion='gini', random_state=18, max_depth=5, min_samples_split=25, max_features=None)\n",
    "rf.fit(x_train,y_train)\n",
    "model_rf_score_train = rf.score(x_train, y_train)\n",
    "print(\"Training score: \", model_rf_score_train)\n",
    "model_rf_score_test = rf.score(x_test, y_test)\n",
    "print(\"Testing score: \", model_rf_score_test)"
   ]
  },
  {
   "cell_type": "code",
   "execution_count": 20,
   "id": "78e42380",
   "metadata": {},
   "outputs": [],
   "source": [
    "# predictions\n",
    "y_pred_rf=rf.predict(x_test)"
   ]
  },
  {
   "cell_type": "markdown",
   "id": "dad3d5ef",
   "metadata": {},
   "source": [
    "## 2.1 Performance Metrics\n",
    "### AUC"
   ]
  },
  {
   "cell_type": "code",
   "execution_count": 21,
   "id": "b8265f89",
   "metadata": {},
   "outputs": [
    {
     "data": {
      "text/plain": [
       "0.5896718063571367"
      ]
     },
     "execution_count": 21,
     "metadata": {},
     "output_type": "execute_result"
    }
   ],
   "source": [
    "fpr_rf, tpr_rf, _ = roc_curve(y_test, y_pred_rf)\n",
    "roc_auc_rf = auc(fpr_rf, tpr_rf)\n",
    "roc_auc_rf"
   ]
  },
  {
   "cell_type": "markdown",
   "id": "1064cf79",
   "metadata": {},
   "source": [
    "### Confusion Matrix"
   ]
  },
  {
   "cell_type": "code",
   "execution_count": 22,
   "id": "4df401cf",
   "metadata": {},
   "outputs": [
    {
     "data": {
      "image/png": "[encoded data removed]",
      "text/plain": [
       "<Figure size 432x288 with 2 Axes>"
      ]
     },
     "metadata": {},
     "output_type": "display_data"
    }
   ],
   "source": [
    "cm = confusion_matrix(y_test, y_pred_rf)\n",
    "ConfusionMatrixDisplay(cm).plot()\n",
    "plt.show()"
   ]
  },
  {
   "cell_type": "markdown",
   "id": "db711c5a",
   "metadata": {},
   "source": [
    "### precision, recall,  f1-score "
   ]
  },
  {
   "cell_type": "code",
   "execution_count": 23,
   "id": "dc763ada",
   "metadata": {},
   "outputs": [
    {
     "name": "stdout",
     "output_type": "stream",
     "text": [
      "Accuracy: 0.8605442176870748\n",
      "Precision 0.75\n",
      "Recall 0.19148936170212766\n",
      "f1_score 0.3050847457627119\n"
     ]
    }
   ],
   "source": [
    "print(\"Accuracy:\",metrics.accuracy_score(y_test, y_pred_rf))\n",
    "print(\"Precision\",metrics.precision_score(y_test, y_pred_rf))\n",
    "print(\"Recall\",metrics.recall_score(y_test, y_pred_rf))\n",
    "print(\"f1_score\",metrics.f1_score(y_test, y_pred_rf))"
   ]
  },
  {
   "cell_type": "code",
   "execution_count": 24,
   "id": "4c174c02",
   "metadata": {},
   "outputs": [
    {
     "name": "stdout",
     "output_type": "stream",
     "text": [
      "Classification Report\n",
      "               precision    recall  f1-score   support\n",
      "\n",
      "           0       0.87      0.99      0.92       247\n",
      "           1       0.75      0.19      0.31        47\n",
      "\n",
      "    accuracy                           0.86       294\n",
      "   macro avg       0.81      0.59      0.61       294\n",
      "weighted avg       0.85      0.86      0.82       294\n",
      "\n"
     ]
    }
   ],
   "source": [
    "print(\"Classification Report\\n\", classification_report(y_test, y_pred_rf))"
   ]
  },
  {
   "cell_type": "markdown",
   "id": "6e00dafe",
   "metadata": {},
   "source": [
    "                                        -------------------------------------"
   ]
  },
  {
   "cell_type": "markdown",
   "id": "03563894",
   "metadata": {},
   "source": [
    "# 3. Gradient Boosting Model (GBM)"
   ]
  },
  {
   "cell_type": "code",
   "execution_count": 27,
   "id": "64aab6c6",
   "metadata": {},
   "outputs": [
    {
     "name": "stdout",
     "output_type": "stream",
     "text": [
      "Training score:  0.9625850340136054\n",
      "Testing score:  0.8741496598639455\n"
     ]
    }
   ],
   "source": [
    "gbm=GradientBoostingClassifier(criterion='friedman_mse', random_state=18, max_depth=4, min_samples_split=35, max_features=\"log2\")\n",
    "gbm.fit(x_train,y_train)\n",
    "model_gbm_score_train = gbm.score(x_train, y_train)\n",
    "print(\"Training score: \", model_gbm_score_train)\n",
    "model_gbm_score_test = gbm.score(x_test, y_test)\n",
    "print(\"Testing score: \", model_gbm_score_test)"
   ]
  },
  {
   "cell_type": "code",
   "execution_count": 28,
   "id": "20c4788f",
   "metadata": {},
   "outputs": [],
   "source": [
    "# predicitons\n",
    "y_pred_gbm=gbm.predict(x_test)"
   ]
  },
  {
   "cell_type": "markdown",
   "id": "be49b8a4",
   "metadata": {},
   "source": [
    "## 3.1 Performance Metrics\n",
    "### AUC"
   ]
  },
  {
   "cell_type": "code",
   "execution_count": 29,
   "id": "6559c424",
   "metadata": {},
   "outputs": [
    {
     "data": {
      "text/plain": [
       "0.6494530105952279"
      ]
     },
     "execution_count": 29,
     "metadata": {},
     "output_type": "execute_result"
    }
   ],
   "source": [
    "fpr_gbm, tpr_gbm, _ = roc_curve(y_test, y_pred_gbm)\n",
    "roc_auc_gbm = auc(fpr_gbm, tpr_gbm)\n",
    "roc_auc_gbm"
   ]
  },
  {
   "cell_type": "code",
   "execution_count": 30,
   "id": "0b1f3dc6",
   "metadata": {
    "scrolled": true
   },
   "outputs": [
    {
     "data": {
      "image/png": "[encoded data removed]",
      "text/plain": [
       "<Figure size 432x288 with 1 Axes>"
      ]
     },
     "metadata": {},
     "output_type": "display_data"
    }
   ],
   "source": [
    "auc_chart(fpr_gbm, tpr_gbm, roc_auc_gbm)"
   ]
  },
  {
   "cell_type": "markdown",
   "id": "f16bdf07",
   "metadata": {},
   "source": [
    "### Confusion Matrix"
   ]
  },
  {
   "cell_type": "code",
   "execution_count": 31,
   "id": "193b0e26",
   "metadata": {
    "scrolled": true
   },
   "outputs": [
    {
     "data": {
      "image/png": "[encoded data removed]",
      "text/plain": [
       "<Figure size 432x288 with 2 Axes>"
      ]
     },
     "metadata": {},
     "output_type": "display_data"
    }
   ],
   "source": [
    "cm = confusion_matrix(y_test, y_pred_gbm)\n",
    "ConfusionMatrixDisplay(cm).plot()\n",
    "plt.show()"
   ]
  },
  {
   "cell_type": "markdown",
   "id": "a3e3e73e",
   "metadata": {},
   "source": [
    "### Precision, Recall, f1-Score"
   ]
  },
  {
   "cell_type": "code",
   "execution_count": 32,
   "id": "b0e6910c",
   "metadata": {},
   "outputs": [
    {
     "name": "stdout",
     "output_type": "stream",
     "text": [
      "Accuracy: 0.8741496598639455\n",
      "Precision 0.75\n",
      "Recall 0.3191489361702128\n",
      "f1_score 0.4477611940298508\n"
     ]
    }
   ],
   "source": [
    "print(\"Accuracy:\",metrics.accuracy_score(y_test, y_pred_gbm))\n",
    "print(\"Precision\",metrics.precision_score(y_test,y_pred_gbm))\n",
    "print(\"Recall\",metrics.recall_score(y_test,y_pred_gbm))\n",
    "print(\"f1_score\",metrics.f1_score(y_test,y_pred_gbm))"
   ]
  },
  {
   "cell_type": "code",
   "execution_count": 33,
   "id": "100b6d89",
   "metadata": {},
   "outputs": [
    {
     "name": "stdout",
     "output_type": "stream",
     "text": [
      "Classification Report\n",
      "               precision    recall  f1-score   support\n",
      "\n",
      "           0       0.88      0.98      0.93       247\n",
      "           1       0.75      0.32      0.45        47\n",
      "\n",
      "    accuracy                           0.87       294\n",
      "   macro avg       0.82      0.65      0.69       294\n",
      "weighted avg       0.86      0.87      0.85       294\n",
      "\n"
     ]
    }
   ],
   "source": [
    "print(\"Classification Report\\n\", classification_report(y_test, y_pred_gbm))"
   ]
  },
  {
   "cell_type": "markdown",
   "id": "703e083d",
   "metadata": {},
   "source": [
    "                                            **************************************"
   ]
  }
 ],
 "metadata": {
  "kernelspec": {
   "display_name": "Python 3 (ipykernel)",
   "language": "python",
   "name": "python3"
  },
  "language_info": {
   "codemirror_mode": {
    "name": "ipython",
    "version": 3
   },
   "file_extension": ".py",
   "mimetype": "text/x-python",
   "name": "python",
   "nbconvert_exporter": "python",
   "pygments_lexer": "ipython3",
   "version": "3.9.7"
  }
 },
 "nbformat": 4,
 "nbformat_minor": 5
}
