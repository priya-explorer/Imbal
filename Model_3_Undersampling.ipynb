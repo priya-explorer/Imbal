{
 "cells": [
  {
   "cell_type": "code",
   "execution_count": 1,
   "id": "c6a15a4e",
   "metadata": {},
   "outputs": [],
   "source": [
    "# Importing the neccessary libraries \n",
    "import pandas as pd\n",
    "import numpy as np\n",
    "\n",
    "import seaborn as sns\n",
    "\n",
    "# Warning Suppression \n",
    "import warnings\n",
    "warnings.filterwarnings('ignore')\n",
    "\n",
    "### Setting Display options to ensure feature name visibility\n",
    "pd.set_option('display.max_columns', None)"
   ]
  },
  {
   "cell_type": "markdown",
   "id": "1f3271f7",
   "metadata": {},
   "source": [
    "## Load the Data"
   ]
  },
  {
   "cell_type": "code",
   "execution_count": 2,
   "id": "813b3140",
   "metadata": {},
   "outputs": [],
   "source": [
    "X = pd.read_csv(r'C:\\Users\\priya\\PycharmProjects\\Employee_attrition_project\\Data\\independent_features')"
   ]
  },
  {
   "cell_type": "code",
   "execution_count": 3,
   "id": "26cb8db8",
   "metadata": {},
   "outputs": [],
   "source": [
    "Y = pd.read_csv(r'C:\\Users\\priya\\PycharmProjects\\Employee_attrition_project\\Data\\target_feature')"
   ]
  },
  {
   "cell_type": "markdown",
   "id": "1e67c5f2",
   "metadata": {},
   "source": [
    "# Split the data into test and train sets"
   ]
  },
  {
   "cell_type": "code",
   "execution_count": 4,
   "id": "a44938ae",
   "metadata": {},
   "outputs": [],
   "source": [
    "from sklearn.model_selection import train_test_split "
   ]
  },
  {
   "cell_type": "code",
   "execution_count": 5,
   "id": "2aff0786",
   "metadata": {},
   "outputs": [],
   "source": [
    "#Train Test Split\n",
    "x_train, x_test, y_train, y_test = train_test_split(X, Y, test_size = 0.2, random_state=18)"
   ]
  },
  {
   "cell_type": "code",
   "execution_count": 6,
   "id": "57bbd2ae",
   "metadata": {
    "scrolled": true
   },
   "outputs": [
    {
     "name": "stdout",
     "output_type": "stream",
     "text": [
      "Attrition Rate in Training Data Attrition    0.162415\n",
      "dtype: float64\n",
      "Attrition Rate in Testing Data Attrition    0.156463\n",
      "dtype: float64\n"
     ]
    }
   ],
   "source": [
    "# To check if the testing data is a representator of the population\n",
    "print(\"Attrition Rate in Training Data\", y_train.mean())\n",
    "print(\"Attrition Rate in Testing Data\", y_test.mean())"
   ]
  },
  {
   "cell_type": "markdown",
   "id": "40693ee0",
   "metadata": {},
   "source": [
    "# Importing necessary libraries for Model Building"
   ]
  },
  {
   "cell_type": "code",
   "execution_count": 7,
   "id": "5b760727",
   "metadata": {},
   "outputs": [],
   "source": [
    "from sklearn.tree import DecisionTreeClassifier\n",
    "from sklearn.ensemble import RandomForestClassifier\n",
    "\n",
    "from sklearn import metrics\n",
    "from sklearn.metrics import confusion_matrix, ConfusionMatrixDisplay\n",
    "from sklearn.metrics import accuracy_score\n",
    "from sklearn.metrics import roc_curve, auc\n",
    "from sklearn.tree import export_graphviz\n",
    "from sklearn.metrics import classification_report\n",
    "\n",
    "\n",
    "import matplotlib.pyplot as plt\n",
    "from urllib.request import urlopen \n",
    "\n",
    "plt.style.use('ggplot')\n",
    "pd.set_option('display.max_columns', 500) \n",
    "\n"
   ]
  },
  {
   "cell_type": "markdown",
   "id": "641d9a09",
   "metadata": {},
   "source": [
    "# Undersampling Using NearMiss Technique\n"
   ]
  },
  {
   "cell_type": "code",
   "execution_count": 8,
   "id": "e3b45a8b",
   "metadata": {
    "scrolled": true
   },
   "outputs": [
    {
     "name": "stdout",
     "output_type": "stream",
     "text": [
      "Before Sampling, count of label '1': 191\n",
      "Before Sampling, count of label '0': 985 \n",
      "\n"
     ]
    }
   ],
   "source": [
    "print(\"Before Sampling, count of label '1': {}\".format(sum(y_train['Attrition'] == 1)))\n",
    "print(\"Before Sampling, count of label '0': {} \\n\".format(sum(y_train['Attrition'] == 0)))"
   ]
  },
  {
   "cell_type": "markdown",
   "id": "cc7428d6",
   "metadata": {},
   "source": [
    "### Another Techinque \n",
    "from imblearn.under_sampling import NearMiss\n",
    "nr = NearMiss()\n",
    "x_train_res, y_train_res = nr.fit_resample(x_train, y_train)"
   ]
  },
  {
   "cell_type": "code",
   "execution_count": 9,
   "id": "bdad8839",
   "metadata": {},
   "outputs": [],
   "source": [
    "# Random Under Sampling \n",
    "\n",
    "from imblearn.under_sampling import RandomUnderSampler\n",
    "rus = RandomUnderSampler(random_state=18)\n",
    "x_train_res, y_train_res = rus.fit_resample(x_train, y_train)"
   ]
  },
  {
   "cell_type": "code",
   "execution_count": 10,
   "id": "0a0bbceb",
   "metadata": {
    "scrolled": true
   },
   "outputs": [
    {
     "name": "stdout",
     "output_type": "stream",
     "text": [
      "The shape of x_train: (382, 37)\n",
      "The shape of y_train: (382, 1) \n",
      "\n",
      "After UnderSampling, count of label '1': 191\n",
      "After UnderSampling, count of label '0': 191\n"
     ]
    }
   ],
   "source": [
    "print('The shape of x_train: {}'.format(x_train_res.shape))\n",
    "print('The shape of y_train: {} \\n'.format(y_train_res.shape))\n",
    "  \n",
    "print(\"After UnderSampling, count of label '1': {}\".format(sum(y_train_res['Attrition'] == 1)))\n",
    "print(\"After UnderSampling, count of label '0': {}\".format(sum(y_train_res['Attrition'] == 0)))"
   ]
  },
  {
   "cell_type": "markdown",
   "id": "efb2a58e",
   "metadata": {},
   "source": [
    "# Decision Tree Model"
   ]
  },
  {
   "cell_type": "code",
   "execution_count": 11,
   "id": "bc064d69",
   "metadata": {},
   "outputs": [],
   "source": [
    "# Building a Decision Tree Model\n",
    "model_dt=DecisionTreeClassifier(criterion='gini',random_state=18)"
   ]
  },
  {
   "cell_type": "code",
   "execution_count": 12,
   "id": "9d0d84d7",
   "metadata": {},
   "outputs": [
    {
     "name": "stdout",
     "output_type": "stream",
     "text": [
      "The time taken in grid search:  6.18\n"
     ]
    },
    {
     "data": {
      "text/plain": [
       "('Best Parameters using grid search:',\n",
       " {'max_depth': 4, 'max_features': 'auto', 'min_samples_split': 50})"
      ]
     },
     "execution_count": 12,
     "metadata": {},
     "output_type": "execute_result"
    }
   ],
   "source": [
    "from func_for_model import gridsearch\n",
    "gridsearch(x_train_res, y_train_res, model=model_dt)"
   ]
  },
  {
   "cell_type": "code",
   "execution_count": 13,
   "id": "337ad69a",
   "metadata": {},
   "outputs": [
    {
     "name": "stdout",
     "output_type": "stream",
     "text": [
      "Training score:  0.7591623036649214\n",
      "Testing score:  0.6632653061224489\n"
     ]
    }
   ],
   "source": [
    "# Decision tree with depth = 4\n",
    "model_dt = DecisionTreeClassifier(random_state=18, criterion = \"gini\", max_depth= 4, min_samples_split= 50, max_features=\"auto\")\n",
    "model_dt.fit(x_train_res, y_train_res)\n",
    "model_dt_score_train = model_dt.score(x_train_res, y_train_res)\n",
    "print(\"Training score: \", model_dt_score_train)\n",
    "model_dt_score_test = model_dt.score(x_test, y_test)\n",
    "print(\"Testing score: \", model_dt_score_test)"
   ]
  },
  {
   "cell_type": "code",
   "execution_count": 14,
   "id": "3f2ed3c3",
   "metadata": {},
   "outputs": [],
   "source": [
    "# Predictions\n",
    "y_pred_dt=model_dt.predict(x_test)"
   ]
  },
  {
   "cell_type": "markdown",
   "id": "954a75f1",
   "metadata": {},
   "source": [
    "# 1.1 Perfomance Metrics\n",
    "### AUC"
   ]
  },
  {
   "cell_type": "code",
   "execution_count": 15,
   "id": "9b7c01e1",
   "metadata": {},
   "outputs": [
    {
     "data": {
      "text/plain": [
       "0.6941619915848527"
      ]
     },
     "execution_count": 15,
     "metadata": {},
     "output_type": "execute_result"
    }
   ],
   "source": [
    "#Area Under the Curve\n",
    "fpr_dt, tpr_dt, _ = roc_curve(y_test, y_pred_dt)\n",
    "roc_auc_dt = auc(fpr_dt, tpr_dt)\n",
    "roc_auc_dt ## Area Under the Curve"
   ]
  },
  {
   "cell_type": "code",
   "execution_count": 16,
   "id": "e109370a",
   "metadata": {},
   "outputs": [
    {
     "data": {
      "image/png": "[encoded data removed]",
      "text/plain": [
       "<Figure size 432x288 with 1 Axes>"
      ]
     },
     "metadata": {},
     "output_type": "display_data"
    }
   ],
   "source": [
    "from func_for_model import auc_chart\n",
    "auc_chart(fpr_dt, tpr_dt, roc_auc_dt)"
   ]
  },
  {
   "cell_type": "code",
   "execution_count": 17,
   "id": "c5d23250",
   "metadata": {},
   "outputs": [
    {
     "data": {
      "image/png": "[encoded data removed]",
      "text/plain": [
       "<Figure size 432x288 with 2 Axes>"
      ]
     },
     "metadata": {},
     "output_type": "display_data"
    }
   ],
   "source": [
    "cm = confusion_matrix(y_test, y_pred_dt)\n",
    "ConfusionMatrixDisplay(cm).plot()\n",
    "plt.show()"
   ]
  },
  {
   "cell_type": "markdown",
   "id": "68e72c40",
   "metadata": {},
   "source": [
    "### precision, recall,  f1-score "
   ]
  },
  {
   "cell_type": "code",
   "execution_count": 18,
   "id": "f9b558e2",
   "metadata": {},
   "outputs": [
    {
     "name": "stdout",
     "output_type": "stream",
     "text": [
      "Classification Report\n",
      "               precision    recall  f1-score   support\n",
      "\n",
      "           0       0.93      0.65      0.76       248\n",
      "           1       0.28      0.74      0.41        46\n",
      "\n",
      "    accuracy                           0.66       294\n",
      "   macro avg       0.61      0.69      0.59       294\n",
      "weighted avg       0.83      0.66      0.71       294\n",
      "\n"
     ]
    }
   ],
   "source": [
    "\n",
    "print(\"Classification Report\\n\", classification_report(y_test, y_pred_dt))"
   ]
  },
  {
   "cell_type": "markdown",
   "id": "fdbd735d",
   "metadata": {},
   "source": [
    "# Random Forest"
   ]
  },
  {
   "cell_type": "code",
   "execution_count": 19,
   "id": "6dd0851a",
   "metadata": {},
   "outputs": [
    {
     "name": "stdout",
     "output_type": "stream",
     "text": [
      "Training score:  0.806282722513089\n",
      "Testing score:  0.7142857142857143\n"
     ]
    }
   ],
   "source": [
    "rf=RandomForestClassifier(criterion='gini', random_state=18, max_depth=4, min_samples_split=50,max_features=\"auto\")\n",
    "rf.fit(x_train_res,y_train_res)\n",
    "model_rf_score_train = rf.score(x_train_res, y_train_res)\n",
    "print(\"Training score: \", model_rf_score_train)\n",
    "model_rf_score_test = rf.score(x_test, y_test)\n",
    "print(\"Testing score: \", model_rf_score_test)"
   ]
  },
  {
   "cell_type": "code",
   "execution_count": 20,
   "id": "78e42380",
   "metadata": {},
   "outputs": [],
   "source": [
    "# predictions\n",
    "y_pred_rf=rf.predict(x_test)"
   ]
  },
  {
   "cell_type": "markdown",
   "id": "2b829768",
   "metadata": {},
   "source": [
    "# 2.1 Perfomance Metrics\n",
    "### AUC"
   ]
  },
  {
   "cell_type": "code",
   "execution_count": 21,
   "id": "b8265f89",
   "metadata": {},
   "outputs": [
    {
     "data": {
      "text/plain": [
       "0.6801367461430575"
      ]
     },
     "execution_count": 21,
     "metadata": {},
     "output_type": "execute_result"
    }
   ],
   "source": [
    "fpr_rf, tpr_rf, _ = roc_curve(y_test, y_pred_rf)\n",
    "roc_auc_rf = auc(fpr_rf, tpr_rf)\n",
    "roc_auc_rf"
   ]
  },
  {
   "cell_type": "markdown",
   "id": "471a47f7",
   "metadata": {},
   "source": [
    "### Confusion Matrix"
   ]
  },
  {
   "cell_type": "code",
   "execution_count": 22,
   "id": "4df401cf",
   "metadata": {},
   "outputs": [
    {
     "data": {
      "image/png": "[encoded data removed]",
      "text/plain": [
       "<Figure size 432x288 with 2 Axes>"
      ]
     },
     "metadata": {},
     "output_type": "display_data"
    }
   ],
   "source": [
    "cm = confusion_matrix(y_test, y_pred_rf)\n",
    "ConfusionMatrixDisplay(cm).plot()\n",
    "plt.show()"
   ]
  },
  {
   "cell_type": "markdown",
   "id": "82831151",
   "metadata": {},
   "source": [
    "### precision, recall,  f1-score "
   ]
  },
  {
   "cell_type": "code",
   "execution_count": 23,
   "id": "4c174c02",
   "metadata": {},
   "outputs": [
    {
     "name": "stdout",
     "output_type": "stream",
     "text": [
      "Classification Report\n",
      "               precision    recall  f1-score   support\n",
      "\n",
      "           0       0.91      0.73      0.81       248\n",
      "           1       0.30      0.63      0.41        46\n",
      "\n",
      "    accuracy                           0.71       294\n",
      "   macro avg       0.61      0.68      0.61       294\n",
      "weighted avg       0.82      0.71      0.75       294\n",
      "\n"
     ]
    }
   ],
   "source": [
    "print(\"Classification Report\\n\", classification_report(y_test, y_pred_rf))"
   ]
  },
  {
   "cell_type": "markdown",
   "id": "11025f7c",
   "metadata": {},
   "source": [
    "# Gradient Boosting Model (GBM)"
   ]
  },
  {
   "cell_type": "code",
   "execution_count": 24,
   "id": "64aab6c6",
   "metadata": {},
   "outputs": [
    {
     "name": "stdout",
     "output_type": "stream",
     "text": [
      "Training score:  0.9770408163265306\n",
      "Testing score:  0.8775510204081632\n"
     ]
    }
   ],
   "source": [
    "from sklearn.ensemble import GradientBoostingClassifier\n",
    "gbm=GradientBoostingClassifier(criterion='friedman_mse', random_state=18, max_depth=4, min_samples_split=50, max_features=\"auto\")\n",
    "gbm.fit(x_train,y_train)\n",
    "model_gbm_score_train = gbm.score(x_train, y_train)\n",
    "print(\"Training score: \", model_gbm_score_train)\n",
    "model_gbm_score_test = gbm.score(x_test, y_test)\n",
    "print(\"Testing score: \", model_gbm_score_test)"
   ]
  },
  {
   "cell_type": "code",
   "execution_count": 25,
   "id": "20c4788f",
   "metadata": {},
   "outputs": [],
   "source": [
    "# predicitons\n",
    "y_pred_gbm=gbm.predict(x_test)"
   ]
  },
  {
   "cell_type": "markdown",
   "id": "9f3a90da",
   "metadata": {},
   "source": [
    "# 3.1 Perfomance Metrics\n",
    "### AUC"
   ]
  },
  {
   "cell_type": "code",
   "execution_count": 26,
   "id": "6559c424",
   "metadata": {},
   "outputs": [
    {
     "data": {
      "text/plain": [
       "0.6618162692847125"
      ]
     },
     "execution_count": 26,
     "metadata": {},
     "output_type": "execute_result"
    }
   ],
   "source": [
    "fpr_gbm, tpr_gbm, _ = roc_curve(y_test, y_pred_gbm)\n",
    "roc_auc_gbm = auc(fpr_gbm, tpr_gbm)\n",
    "roc_auc_gbm"
   ]
  },
  {
   "cell_type": "code",
   "execution_count": 27,
   "id": "0b1f3dc6",
   "metadata": {
    "scrolled": true
   },
   "outputs": [
    {
     "data": {
      "image/png": "[encoded data removed]",
      "text/plain": [
       "<Figure size 432x288 with 1 Axes>"
      ]
     },
     "metadata": {},
     "output_type": "display_data"
    }
   ],
   "source": [
    "auc_chart(fpr_gbm, tpr_gbm, roc_auc_gbm)"
   ]
  },
  {
   "cell_type": "markdown",
   "id": "13cbe2c8",
   "metadata": {},
   "source": [
    "### Confusion Matrix"
   ]
  },
  {
   "cell_type": "code",
   "execution_count": 28,
   "id": "193b0e26",
   "metadata": {},
   "outputs": [
    {
     "data": {
      "image/png": "[encoded data removed]",
      "text/plain": [
       "<Figure size 432x288 with 2 Axes>"
      ]
     },
     "metadata": {},
     "output_type": "display_data"
    }
   ],
   "source": [
    "cm = confusion_matrix(y_test, y_pred_gbm)\n",
    "ConfusionMatrixDisplay(cm).plot()\n",
    "plt.show()"
   ]
  },
  {
   "cell_type": "markdown",
   "id": "86ec7436",
   "metadata": {},
   "source": [
    "### precision, recall, f1-score"
   ]
  },
  {
   "cell_type": "code",
   "execution_count": 29,
   "id": "0816040a",
   "metadata": {
    "scrolled": true
   },
   "outputs": [
    {
     "name": "stdout",
     "output_type": "stream",
     "text": [
      "Classification Report\n",
      "               precision    recall  f1-score   support\n",
      "\n",
      "           0       0.89      0.98      0.93       248\n",
      "           1       0.73      0.35      0.47        46\n",
      "\n",
      "    accuracy                           0.88       294\n",
      "   macro avg       0.81      0.66      0.70       294\n",
      "weighted avg       0.86      0.88      0.86       294\n",
      "\n"
     ]
    }
   ],
   "source": [
    "print(\"Classification Report\\n\", classification_report(y_test, y_pred_gbm))"
   ]
  },
  {
   "cell_type": "markdown",
   "id": "d20baecb",
   "metadata": {},
   "source": [
    "# <font color=mediumblue> Final Model Selected - GBM using Undersampling </font>\n",
    "- Comparing the performance metrics of all the 3 models we see that the, GBM works better than others. Hence we use GBM, to find the top features in this dataset"
   ]
  },
  {
   "cell_type": "markdown",
   "id": "9653120e",
   "metadata": {},
   "source": [
    "## <font color=mediumblue> The important factors associated with Attrition </font>"
   ]
  },
  {
   "cell_type": "code",
   "execution_count": 30,
   "id": "b18a565d",
   "metadata": {},
   "outputs": [
    {
     "data": {
      "image/png": "[encoded data removed]",
      "text/plain": [
       "<Figure size 432x288 with 1 Axes>"
      ]
     },
     "metadata": {},
     "output_type": "display_data"
    }
   ],
   "source": [
    "import pandas as pd\n",
    "feature_importances=pd.DataFrame(gbm.feature_importances_,\n",
    "                                 index=x_train.columns,\n",
    "                                 columns=['importance']).sort_values('importance',ascending=False)\n",
    "\n",
    "\n",
    "ax=sns.barplot(x='importance', y=feature_importances.iloc[0:10].index,data=feature_importances.iloc[0:10])\n",
    "plt.title(\"The Top 10 important features\")\n",
    "plt.show()"
   ]
  },
  {
   "cell_type": "markdown",
   "id": "3ebc2b2d",
   "metadata": {},
   "source": [
    "                                            **************************************"
   ]
  }
 ],
 "metadata": {
  "kernelspec": {
   "display_name": "Python 3 (ipykernel)",
   "language": "python",
   "name": "python3"
  },
  "language_info": {
   "codemirror_mode": {
    "name": "ipython",
    "version": 3
   },
   "file_extension": ".py",
   "mimetype": "text/x-python",
   "name": "python",
   "nbconvert_exporter": "python",
   "pygments_lexer": "ipython3",
   "version": "3.9.7"
  }
 },
 "nbformat": 4,
 "nbformat_minor": 5
}
