{
 "cells": [
  {
   "cell_type": "code",
   "execution_count": 1,
   "id": "c6a15a4e",
   "metadata": {},
   "outputs": [],
   "source": [
    "# Importing the neccessary libraries \n",
    "\n",
    "import pandas as pd\n",
    "import numpy as np\n",
    "\n",
    "# Warning Suppression \n",
    "import warnings\n",
    "warnings.filterwarnings('ignore')"
   ]
  },
  {
   "cell_type": "code",
   "execution_count": 2,
   "id": "25cb9aa8",
   "metadata": {},
   "outputs": [],
   "source": [
    "### Setting Display options to ensure feature name visibility\n",
    "\n",
    "pd.set_option('display.max_columns', None)"
   ]
  },
  {
   "cell_type": "markdown",
   "id": "1f3271f7",
   "metadata": {},
   "source": [
    "## Load the Data"
   ]
  },
  {
   "cell_type": "code",
   "execution_count": 3,
   "id": "813b3140",
   "metadata": {},
   "outputs": [],
   "source": [
    "X = pd.read_csv(r'C:\\Users\\priya\\PycharmProjects\\Employee_attrition_project\\Data\\independent_features')"
   ]
  },
  {
   "cell_type": "code",
   "execution_count": 4,
   "id": "26cb8db8",
   "metadata": {},
   "outputs": [],
   "source": [
    "Y = pd.read_csv(r'C:\\Users\\priya\\PycharmProjects\\Employee_attrition_project\\Data\\target_feature')"
   ]
  },
  {
   "cell_type": "code",
   "execution_count": 5,
   "id": "7061c419",
   "metadata": {},
   "outputs": [
    {
     "data": {
      "text/html": [
       "<div>\n",
       "<style scoped>\n",
       "    .dataframe tbody tr th:only-of-type {\n",
       "        vertical-align: middle;\n",
       "    }\n",
       "\n",
       "    .dataframe tbody tr th {\n",
       "        vertical-align: top;\n",
       "    }\n",
       "\n",
       "    .dataframe thead th {\n",
       "        text-align: right;\n",
       "    }\n",
       "</style>\n",
       "<table border=\"1\" class=\"dataframe\">\n",
       "  <thead>\n",
       "    <tr style=\"text-align: right;\">\n",
       "      <th></th>\n",
       "      <th>EnvironmentSatisfaction</th>\n",
       "      <th>JobInvolvement</th>\n",
       "      <th>JobSatisfaction</th>\n",
       "      <th>RelationshipSatisfaction</th>\n",
       "      <th>StockOptionLevel</th>\n",
       "      <th>TrainingTimesLastYear</th>\n",
       "      <th>WorkLifeBalance</th>\n",
       "      <th>BusinessTravel_Travel_Frequently</th>\n",
       "      <th>BusinessTravel_Travel_Rarely</th>\n",
       "      <th>Department_Research &amp; Development</th>\n",
       "      <th>Department_Sales</th>\n",
       "      <th>EducationField_Life Sciences</th>\n",
       "      <th>EducationField_Marketing</th>\n",
       "      <th>EducationField_Medical</th>\n",
       "      <th>EducationField_Other</th>\n",
       "      <th>EducationField_Technical Degree</th>\n",
       "      <th>JobRole_Human Resources</th>\n",
       "      <th>JobRole_Laboratory Technician</th>\n",
       "      <th>JobRole_Manager</th>\n",
       "      <th>JobRole_Manufacturing Director</th>\n",
       "      <th>JobRole_Research Director</th>\n",
       "      <th>JobRole_Research Scientist</th>\n",
       "      <th>JobRole_Sales Executive</th>\n",
       "      <th>JobRole_Sales Representative</th>\n",
       "      <th>MaritalStatus_Married</th>\n",
       "      <th>MaritalStatus_Single</th>\n",
       "      <th>OverTime_Yes</th>\n",
       "      <th>Age</th>\n",
       "      <th>DistanceFromHome</th>\n",
       "      <th>MonthlyIncome</th>\n",
       "      <th>PercentSalaryHike</th>\n",
       "      <th>TotalWorkingYears</th>\n",
       "      <th>YearsAtCompany</th>\n",
       "      <th>NumCompaniesWorked</th>\n",
       "      <th>YearsInCurrentRole</th>\n",
       "      <th>YearsSinceLastPromotion</th>\n",
       "      <th>YearsWithCurrManager</th>\n",
       "    </tr>\n",
       "  </thead>\n",
       "  <tbody>\n",
       "    <tr>\n",
       "      <th>0</th>\n",
       "      <td>2</td>\n",
       "      <td>3</td>\n",
       "      <td>4</td>\n",
       "      <td>1</td>\n",
       "      <td>0</td>\n",
       "      <td>0</td>\n",
       "      <td>1</td>\n",
       "      <td>0</td>\n",
       "      <td>1</td>\n",
       "      <td>0</td>\n",
       "      <td>1</td>\n",
       "      <td>1</td>\n",
       "      <td>0</td>\n",
       "      <td>0</td>\n",
       "      <td>0</td>\n",
       "      <td>0</td>\n",
       "      <td>0</td>\n",
       "      <td>0</td>\n",
       "      <td>0</td>\n",
       "      <td>0</td>\n",
       "      <td>0</td>\n",
       "      <td>0</td>\n",
       "      <td>1</td>\n",
       "      <td>0</td>\n",
       "      <td>0</td>\n",
       "      <td>1</td>\n",
       "      <td>1</td>\n",
       "      <td>41.0</td>\n",
       "      <td>1</td>\n",
       "      <td>5993.0</td>\n",
       "      <td>11</td>\n",
       "      <td>8</td>\n",
       "      <td>6</td>\n",
       "      <td>8</td>\n",
       "      <td>4</td>\n",
       "      <td>0</td>\n",
       "      <td>5</td>\n",
       "    </tr>\n",
       "    <tr>\n",
       "      <th>1</th>\n",
       "      <td>3</td>\n",
       "      <td>2</td>\n",
       "      <td>2</td>\n",
       "      <td>4</td>\n",
       "      <td>1</td>\n",
       "      <td>3</td>\n",
       "      <td>3</td>\n",
       "      <td>1</td>\n",
       "      <td>0</td>\n",
       "      <td>1</td>\n",
       "      <td>0</td>\n",
       "      <td>1</td>\n",
       "      <td>0</td>\n",
       "      <td>0</td>\n",
       "      <td>0</td>\n",
       "      <td>0</td>\n",
       "      <td>0</td>\n",
       "      <td>0</td>\n",
       "      <td>0</td>\n",
       "      <td>0</td>\n",
       "      <td>0</td>\n",
       "      <td>1</td>\n",
       "      <td>0</td>\n",
       "      <td>0</td>\n",
       "      <td>1</td>\n",
       "      <td>0</td>\n",
       "      <td>0</td>\n",
       "      <td>49.0</td>\n",
       "      <td>8</td>\n",
       "      <td>5130.0</td>\n",
       "      <td>23</td>\n",
       "      <td>10</td>\n",
       "      <td>10</td>\n",
       "      <td>1</td>\n",
       "      <td>7</td>\n",
       "      <td>1</td>\n",
       "      <td>7</td>\n",
       "    </tr>\n",
       "    <tr>\n",
       "      <th>2</th>\n",
       "      <td>4</td>\n",
       "      <td>2</td>\n",
       "      <td>3</td>\n",
       "      <td>2</td>\n",
       "      <td>0</td>\n",
       "      <td>3</td>\n",
       "      <td>3</td>\n",
       "      <td>0</td>\n",
       "      <td>1</td>\n",
       "      <td>1</td>\n",
       "      <td>0</td>\n",
       "      <td>0</td>\n",
       "      <td>0</td>\n",
       "      <td>0</td>\n",
       "      <td>1</td>\n",
       "      <td>0</td>\n",
       "      <td>0</td>\n",
       "      <td>1</td>\n",
       "      <td>0</td>\n",
       "      <td>0</td>\n",
       "      <td>0</td>\n",
       "      <td>0</td>\n",
       "      <td>0</td>\n",
       "      <td>0</td>\n",
       "      <td>0</td>\n",
       "      <td>1</td>\n",
       "      <td>1</td>\n",
       "      <td>37.0</td>\n",
       "      <td>2</td>\n",
       "      <td>2090.0</td>\n",
       "      <td>15</td>\n",
       "      <td>7</td>\n",
       "      <td>0</td>\n",
       "      <td>6</td>\n",
       "      <td>0</td>\n",
       "      <td>0</td>\n",
       "      <td>0</td>\n",
       "    </tr>\n",
       "    <tr>\n",
       "      <th>3</th>\n",
       "      <td>4</td>\n",
       "      <td>3</td>\n",
       "      <td>3</td>\n",
       "      <td>3</td>\n",
       "      <td>0</td>\n",
       "      <td>3</td>\n",
       "      <td>3</td>\n",
       "      <td>1</td>\n",
       "      <td>0</td>\n",
       "      <td>1</td>\n",
       "      <td>0</td>\n",
       "      <td>1</td>\n",
       "      <td>0</td>\n",
       "      <td>0</td>\n",
       "      <td>0</td>\n",
       "      <td>0</td>\n",
       "      <td>0</td>\n",
       "      <td>0</td>\n",
       "      <td>0</td>\n",
       "      <td>0</td>\n",
       "      <td>0</td>\n",
       "      <td>1</td>\n",
       "      <td>0</td>\n",
       "      <td>0</td>\n",
       "      <td>1</td>\n",
       "      <td>0</td>\n",
       "      <td>1</td>\n",
       "      <td>33.0</td>\n",
       "      <td>3</td>\n",
       "      <td>2909.0</td>\n",
       "      <td>11</td>\n",
       "      <td>8</td>\n",
       "      <td>8</td>\n",
       "      <td>1</td>\n",
       "      <td>7</td>\n",
       "      <td>3</td>\n",
       "      <td>0</td>\n",
       "    </tr>\n",
       "    <tr>\n",
       "      <th>4</th>\n",
       "      <td>1</td>\n",
       "      <td>3</td>\n",
       "      <td>2</td>\n",
       "      <td>4</td>\n",
       "      <td>1</td>\n",
       "      <td>3</td>\n",
       "      <td>3</td>\n",
       "      <td>0</td>\n",
       "      <td>1</td>\n",
       "      <td>1</td>\n",
       "      <td>0</td>\n",
       "      <td>0</td>\n",
       "      <td>0</td>\n",
       "      <td>1</td>\n",
       "      <td>0</td>\n",
       "      <td>0</td>\n",
       "      <td>0</td>\n",
       "      <td>1</td>\n",
       "      <td>0</td>\n",
       "      <td>0</td>\n",
       "      <td>0</td>\n",
       "      <td>0</td>\n",
       "      <td>0</td>\n",
       "      <td>0</td>\n",
       "      <td>1</td>\n",
       "      <td>0</td>\n",
       "      <td>0</td>\n",
       "      <td>27.0</td>\n",
       "      <td>2</td>\n",
       "      <td>3468.0</td>\n",
       "      <td>12</td>\n",
       "      <td>6</td>\n",
       "      <td>2</td>\n",
       "      <td>9</td>\n",
       "      <td>2</td>\n",
       "      <td>2</td>\n",
       "      <td>2</td>\n",
       "    </tr>\n",
       "  </tbody>\n",
       "</table>\n",
       "</div>"
      ],
      "text/plain": [
       "   EnvironmentSatisfaction  JobInvolvement  JobSatisfaction  \\\n",
       "0                        2               3                4   \n",
       "1                        3               2                2   \n",
       "2                        4               2                3   \n",
       "3                        4               3                3   \n",
       "4                        1               3                2   \n",
       "\n",
       "   RelationshipSatisfaction  StockOptionLevel  TrainingTimesLastYear  \\\n",
       "0                         1                 0                      0   \n",
       "1                         4                 1                      3   \n",
       "2                         2                 0                      3   \n",
       "3                         3                 0                      3   \n",
       "4                         4                 1                      3   \n",
       "\n",
       "   WorkLifeBalance  BusinessTravel_Travel_Frequently  \\\n",
       "0                1                                 0   \n",
       "1                3                                 1   \n",
       "2                3                                 0   \n",
       "3                3                                 1   \n",
       "4                3                                 0   \n",
       "\n",
       "   BusinessTravel_Travel_Rarely  Department_Research & Development  \\\n",
       "0                             1                                  0   \n",
       "1                             0                                  1   \n",
       "2                             1                                  1   \n",
       "3                             0                                  1   \n",
       "4                             1                                  1   \n",
       "\n",
       "   Department_Sales  EducationField_Life Sciences  EducationField_Marketing  \\\n",
       "0                 1                             1                         0   \n",
       "1                 0                             1                         0   \n",
       "2                 0                             0                         0   \n",
       "3                 0                             1                         0   \n",
       "4                 0                             0                         0   \n",
       "\n",
       "   EducationField_Medical  EducationField_Other  \\\n",
       "0                       0                     0   \n",
       "1                       0                     0   \n",
       "2                       0                     1   \n",
       "3                       0                     0   \n",
       "4                       1                     0   \n",
       "\n",
       "   EducationField_Technical Degree  JobRole_Human Resources  \\\n",
       "0                                0                        0   \n",
       "1                                0                        0   \n",
       "2                                0                        0   \n",
       "3                                0                        0   \n",
       "4                                0                        0   \n",
       "\n",
       "   JobRole_Laboratory Technician  JobRole_Manager  \\\n",
       "0                              0                0   \n",
       "1                              0                0   \n",
       "2                              1                0   \n",
       "3                              0                0   \n",
       "4                              1                0   \n",
       "\n",
       "   JobRole_Manufacturing Director  JobRole_Research Director  \\\n",
       "0                               0                          0   \n",
       "1                               0                          0   \n",
       "2                               0                          0   \n",
       "3                               0                          0   \n",
       "4                               0                          0   \n",
       "\n",
       "   JobRole_Research Scientist  JobRole_Sales Executive  \\\n",
       "0                           0                        1   \n",
       "1                           1                        0   \n",
       "2                           0                        0   \n",
       "3                           1                        0   \n",
       "4                           0                        0   \n",
       "\n",
       "   JobRole_Sales Representative  MaritalStatus_Married  MaritalStatus_Single  \\\n",
       "0                             0                      0                     1   \n",
       "1                             0                      1                     0   \n",
       "2                             0                      0                     1   \n",
       "3                             0                      1                     0   \n",
       "4                             0                      1                     0   \n",
       "\n",
       "   OverTime_Yes   Age  DistanceFromHome  MonthlyIncome  PercentSalaryHike  \\\n",
       "0             1  41.0                 1         5993.0                 11   \n",
       "1             0  49.0                 8         5130.0                 23   \n",
       "2             1  37.0                 2         2090.0                 15   \n",
       "3             1  33.0                 3         2909.0                 11   \n",
       "4             0  27.0                 2         3468.0                 12   \n",
       "\n",
       "   TotalWorkingYears  YearsAtCompany  NumCompaniesWorked  YearsInCurrentRole  \\\n",
       "0                  8               6                   8                   4   \n",
       "1                 10              10                   1                   7   \n",
       "2                  7               0                   6                   0   \n",
       "3                  8               8                   1                   7   \n",
       "4                  6               2                   9                   2   \n",
       "\n",
       "   YearsSinceLastPromotion  YearsWithCurrManager  \n",
       "0                        0                     5  \n",
       "1                        1                     7  \n",
       "2                        0                     0  \n",
       "3                        3                     0  \n",
       "4                        2                     2  "
      ]
     },
     "execution_count": 5,
     "metadata": {},
     "output_type": "execute_result"
    }
   ],
   "source": [
    "X.head()"
   ]
  },
  {
   "cell_type": "code",
   "execution_count": 6,
   "id": "c01eaf24",
   "metadata": {
    "scrolled": false
   },
   "outputs": [
    {
     "data": {
      "text/html": [
       "<div>\n",
       "<style scoped>\n",
       "    .dataframe tbody tr th:only-of-type {\n",
       "        vertical-align: middle;\n",
       "    }\n",
       "\n",
       "    .dataframe tbody tr th {\n",
       "        vertical-align: top;\n",
       "    }\n",
       "\n",
       "    .dataframe thead th {\n",
       "        text-align: right;\n",
       "    }\n",
       "</style>\n",
       "<table border=\"1\" class=\"dataframe\">\n",
       "  <thead>\n",
       "    <tr style=\"text-align: right;\">\n",
       "      <th></th>\n",
       "      <th>Attrition</th>\n",
       "    </tr>\n",
       "  </thead>\n",
       "  <tbody>\n",
       "    <tr>\n",
       "      <th>0</th>\n",
       "      <td>1</td>\n",
       "    </tr>\n",
       "    <tr>\n",
       "      <th>1</th>\n",
       "      <td>0</td>\n",
       "    </tr>\n",
       "    <tr>\n",
       "      <th>2</th>\n",
       "      <td>1</td>\n",
       "    </tr>\n",
       "    <tr>\n",
       "      <th>3</th>\n",
       "      <td>0</td>\n",
       "    </tr>\n",
       "    <tr>\n",
       "      <th>4</th>\n",
       "      <td>0</td>\n",
       "    </tr>\n",
       "  </tbody>\n",
       "</table>\n",
       "</div>"
      ],
      "text/plain": [
       "   Attrition\n",
       "0          1\n",
       "1          0\n",
       "2          1\n",
       "3          0\n",
       "4          0"
      ]
     },
     "execution_count": 6,
     "metadata": {},
     "output_type": "execute_result"
    }
   ],
   "source": [
    "Y.head()"
   ]
  },
  {
   "cell_type": "markdown",
   "id": "1e67c5f2",
   "metadata": {},
   "source": [
    "# Split the data into test and train sets"
   ]
  },
  {
   "cell_type": "code",
   "execution_count": 7,
   "id": "a44938ae",
   "metadata": {},
   "outputs": [],
   "source": [
    "from sklearn.model_selection import train_test_split "
   ]
  },
  {
   "cell_type": "code",
   "execution_count": 8,
   "id": "2aff0786",
   "metadata": {},
   "outputs": [],
   "source": [
    "#Train Test Split\n",
    "x_train, x_test, y_train, y_test = train_test_split(X, Y,test_size = 0.2, random_state=18)"
   ]
  },
  {
   "cell_type": "code",
   "execution_count": 9,
   "id": "57bbd2ae",
   "metadata": {
    "scrolled": true
   },
   "outputs": [
    {
     "name": "stdout",
     "output_type": "stream",
     "text": [
      "Shape of Training Data (1176, 37)\n",
      "Shape of Testing Data (294, 37)\n",
      "Attrition Rate in Training Data Attrition    0.162415\n",
      "dtype: float64\n",
      "Attrition Rate in Testing Data Attrition    0.156463\n",
      "dtype: float64\n"
     ]
    }
   ],
   "source": [
    "# To check if the testing data is a representator of the population\n",
    "\n",
    "print(\"Shape of Training Data\", x_train.shape)\n",
    "print(\"Shape of Testing Data\", x_test.shape)\n",
    "print(\"Attrition Rate in Training Data\", y_train.mean())\n",
    "print(\"Attrition Rate in Testing Data\", y_test.mean())"
   ]
  },
  {
   "cell_type": "markdown",
   "id": "40693ee0",
   "metadata": {},
   "source": [
    "# Importing necessary libraries for Model Building"
   ]
  },
  {
   "cell_type": "code",
   "execution_count": 10,
   "id": "5b760727",
   "metadata": {},
   "outputs": [],
   "source": [
    "from sklearn import metrics\n",
    "from sklearn.metrics import confusion_matrix, ConfusionMatrixDisplay\n",
    "from sklearn.metrics import accuracy_score\n",
    "from sklearn.metrics import roc_curve, auc\n",
    "from sklearn.tree import export_graphviz\n",
    "from sklearn.metrics import classification_report\n",
    "\n",
    "from sklearn.tree import DecisionTreeClassifier\n",
    "from sklearn.ensemble import RandomForestClassifier\n",
    "\n",
    "import matplotlib.pyplot as plt\n",
    "from urllib.request import urlopen \n",
    "\n",
    "plt.style.use('ggplot')\n",
    "pd.set_option('display.max_columns', 500) "
   ]
  },
  {
   "cell_type": "markdown",
   "id": "641d9a09",
   "metadata": {},
   "source": [
    "# Oversampling Using SMOTE\n"
   ]
  },
  {
   "cell_type": "code",
   "execution_count": 11,
   "id": "2e043bcf",
   "metadata": {},
   "outputs": [],
   "source": [
    "# pip install imblearn (if you do not have imblearn installed)\n",
    "from imblearn.over_sampling import SMOTE"
   ]
  },
  {
   "cell_type": "code",
   "execution_count": 12,
   "id": "e3b45a8b",
   "metadata": {
    "scrolled": true
   },
   "outputs": [
    {
     "name": "stdout",
     "output_type": "stream",
     "text": [
      "Before OverSampling, count of label '1': 191\n",
      "Before OverSampling, count of label '0': 985 \n",
      "\n"
     ]
    }
   ],
   "source": [
    "print(\"Before OverSampling, count of label '1': {}\".format(sum(y_train['Attrition'] == 1)))\n",
    "print(\"Before OverSampling, count of label '0': {} \\n\".format(sum(y_train['Attrition'] == 0)))"
   ]
  },
  {
   "cell_type": "code",
   "execution_count": 13,
   "id": "b5c9893a",
   "metadata": {},
   "outputs": [],
   "source": [
    "sm = SMOTE(random_state = 18)\n",
    "x_train_res, y_train_res = sm.fit_resample(x_train, y_train)"
   ]
  },
  {
   "cell_type": "code",
   "execution_count": 14,
   "id": "0a0bbceb",
   "metadata": {
    "scrolled": true
   },
   "outputs": [
    {
     "name": "stdout",
     "output_type": "stream",
     "text": [
      "The shape of x_train: (1970, 37)\n",
      "The shape of y_train: (1970, 1) \n",
      "\n",
      "After OverSampling, count of label '1': 985\n",
      "After OverSampling, count of label '0': 985\n"
     ]
    }
   ],
   "source": [
    "print('The shape of x_train: {}'.format(x_train_res.shape))\n",
    "print('The shape of y_train: {} \\n'.format(y_train_res.shape))\n",
    "  \n",
    "print(\"After OverSampling, count of label '1': {}\".format(sum(y_train_res['Attrition'] == 1)))\n",
    "print(\"After OverSampling, count of label '0': {}\".format(sum(y_train_res['Attrition'] == 0)))"
   ]
  },
  {
   "cell_type": "markdown",
   "id": "efb2a58e",
   "metadata": {},
   "source": [
    "# Decision Tree Model"
   ]
  },
  {
   "cell_type": "code",
   "execution_count": 15,
   "id": "bc064d69",
   "metadata": {},
   "outputs": [],
   "source": [
    "# Building a Decision Tree Model\n",
    "model_dt=DecisionTreeClassifier(criterion='gini',random_state=18)"
   ]
  },
  {
   "cell_type": "code",
   "execution_count": 16,
   "id": "9d0d84d7",
   "metadata": {},
   "outputs": [
    {
     "name": "stdout",
     "output_type": "stream",
     "text": [
      "The time taken in grid search:  7.33\n"
     ]
    },
    {
     "data": {
      "text/plain": [
       "('Best Parameters using grid search:',\n",
       " {'max_depth': 5, 'max_features': None, 'min_samples_split': 35})"
      ]
     },
     "execution_count": 16,
     "metadata": {},
     "output_type": "execute_result"
    }
   ],
   "source": [
    "# Finding the best parameters\n",
    "from func_for_model import gridsearch\n",
    "gridsearch(x_train_res, y_train_res, model=model_dt)"
   ]
  },
  {
   "cell_type": "code",
   "execution_count": 17,
   "id": "337ad69a",
   "metadata": {},
   "outputs": [
    {
     "name": "stdout",
     "output_type": "stream",
     "text": [
      "Training score:  0.8360406091370558\n",
      "Testing score:  0.7210884353741497\n"
     ]
    }
   ],
   "source": [
    "# Decision tree with depth = 4\n",
    "model_dt = DecisionTreeClassifier(random_state=18, criterion = \"gini\", max_depth= 5, min_samples_split= 35)\n",
    "model_dt.fit(x_train_res, y_train_res)\n",
    "model_dt_score_train = model_dt.score(x_train_res, y_train_res)\n",
    "print(\"Training score: \", model_dt_score_train)\n",
    "model_dt_score_test = model_dt.score(x_test, y_test)\n",
    "print(\"Testing score: \", model_dt_score_test)"
   ]
  },
  {
   "cell_type": "code",
   "execution_count": 18,
   "id": "3f2ed3c3",
   "metadata": {},
   "outputs": [],
   "source": [
    "# Predictions\n",
    "y_pred_dt=model_dt.predict(x_test)"
   ]
  },
  {
   "cell_type": "markdown",
   "id": "59026017",
   "metadata": {},
   "source": [
    "# 1.1 Performance Metrics\n",
    "### AUC - Decision Tree"
   ]
  },
  {
   "cell_type": "code",
   "execution_count": 19,
   "id": "9b7c01e1",
   "metadata": {},
   "outputs": [
    {
     "data": {
      "text/plain": [
       "0.6310483870967741"
      ]
     },
     "execution_count": 19,
     "metadata": {},
     "output_type": "execute_result"
    }
   ],
   "source": [
    "#Area Under the Curve\n",
    "fpr_dt, tpr_dt, _ = roc_curve(y_test, y_pred_dt)\n",
    "roc_auc_dt = auc(fpr_dt, tpr_dt)\n",
    "roc_auc_dt ## Area Under the Curve"
   ]
  },
  {
   "cell_type": "code",
   "execution_count": 20,
   "id": "e109370a",
   "metadata": {},
   "outputs": [
    {
     "data": {
      "image/png": "[encoded data removed]",
      "text/plain": [
       "<Figure size 432x288 with 1 Axes>"
      ]
     },
     "metadata": {},
     "output_type": "display_data"
    }
   ],
   "source": [
    "from func_for_model import auc_chart\n",
    "auc_chart(fpr_dt, tpr_dt, roc_auc_dt)"
   ]
  },
  {
   "cell_type": "markdown",
   "id": "8311ec1f",
   "metadata": {},
   "source": [
    "### Confusion Matrix - Decision Tree"
   ]
  },
  {
   "cell_type": "code",
   "execution_count": 21,
   "id": "c5d23250",
   "metadata": {
    "scrolled": true
   },
   "outputs": [
    {
     "data": {
      "image/png": "[encoded data removed]",
      "text/plain": [
       "<Figure size 432x288 with 2 Axes>"
      ]
     },
     "metadata": {},
     "output_type": "display_data"
    }
   ],
   "source": [
    "cm = confusion_matrix(y_test, y_pred_dt)\n",
    "ConfusionMatrixDisplay(cm).plot()\n",
    "plt.show()"
   ]
  },
  {
   "cell_type": "markdown",
   "id": "f218884d",
   "metadata": {},
   "source": [
    "### precision,  recall,  f1-score"
   ]
  },
  {
   "cell_type": "code",
   "execution_count": 22,
   "id": "f9b558e2",
   "metadata": {},
   "outputs": [
    {
     "name": "stdout",
     "output_type": "stream",
     "text": [
      "Classification Report\n",
      "               precision    recall  f1-score   support\n",
      "\n",
      "           0       0.89      0.76      0.82       248\n",
      "           1       0.28      0.50      0.36        46\n",
      "\n",
      "    accuracy                           0.72       294\n",
      "   macro avg       0.59      0.63      0.59       294\n",
      "weighted avg       0.80      0.72      0.75       294\n",
      "\n"
     ]
    }
   ],
   "source": [
    "print(\"Classification Report\\n\", classification_report(y_test, y_pred_dt))"
   ]
  },
  {
   "cell_type": "markdown",
   "id": "2da423b0",
   "metadata": {},
   "source": [
    "# Random Forest Model"
   ]
  },
  {
   "cell_type": "code",
   "execution_count": 23,
   "id": "ed81526d",
   "metadata": {},
   "outputs": [],
   "source": [
    "# Buidling Random Forest\n",
    "model_rf=RandomForestClassifier(criterion='gini',random_state=18)"
   ]
  },
  {
   "cell_type": "code",
   "execution_count": 24,
   "id": "bb4f1896",
   "metadata": {},
   "outputs": [
    {
     "name": "stdout",
     "output_type": "stream",
     "text": [
      "The time taken in grid search:  117.32\n"
     ]
    },
    {
     "data": {
      "text/plain": [
       "('Best Parameters using grid search:',\n",
       " {'max_depth': 5, 'max_features': None, 'min_samples_split': 25})"
      ]
     },
     "execution_count": 24,
     "metadata": {},
     "output_type": "execute_result"
    }
   ],
   "source": [
    "# Find best parameters\n",
    "gridsearch(x_train, y_train, model=model_rf)"
   ]
  },
  {
   "cell_type": "code",
   "execution_count": 25,
   "id": "6dd0851a",
   "metadata": {},
   "outputs": [
    {
     "name": "stdout",
     "output_type": "stream",
     "text": [
      "Training score:  0.8934010152284264\n",
      "Testing score:  0.8197278911564626\n"
     ]
    }
   ],
   "source": [
    "rf=RandomForestClassifier(criterion='gini', random_state=18, max_depth=5, min_samples_split=25)\n",
    "rf.fit(x_train_res,y_train_res)\n",
    "model_rf_score_train = rf.score(x_train_res, y_train_res)\n",
    "print(\"Training score: \", model_rf_score_train)\n",
    "model_rf_score_test = rf.score(x_test, y_test)\n",
    "print(\"Testing score: \", model_rf_score_test)"
   ]
  },
  {
   "cell_type": "code",
   "execution_count": 26,
   "id": "78e42380",
   "metadata": {},
   "outputs": [],
   "source": [
    "# predictions\n",
    "y_pred_rf=rf.predict(x_test)"
   ]
  },
  {
   "cell_type": "markdown",
   "id": "964b61f8",
   "metadata": {},
   "source": [
    "# 2.1 Performance Metrics\n",
    "### AUC - Random Forest"
   ]
  },
  {
   "cell_type": "code",
   "execution_count": 27,
   "id": "b8265f89",
   "metadata": {},
   "outputs": [
    {
     "data": {
      "text/plain": [
       "0.6718092566619915"
      ]
     },
     "execution_count": 27,
     "metadata": {},
     "output_type": "execute_result"
    }
   ],
   "source": [
    "fpr_rf, tpr_rf, _ = roc_curve(y_test, y_pred_rf)\n",
    "roc_auc_rf = auc(fpr_rf, tpr_rf)\n",
    "roc_auc_rf"
   ]
  },
  {
   "cell_type": "markdown",
   "id": "a9a7a942",
   "metadata": {},
   "source": [
    "### Confusion Matrix"
   ]
  },
  {
   "cell_type": "code",
   "execution_count": 28,
   "id": "4df401cf",
   "metadata": {
    "scrolled": true
   },
   "outputs": [
    {
     "data": {
      "image/png": "[encoded data removed]",
      "text/plain": [
       "<Figure size 432x288 with 2 Axes>"
      ]
     },
     "metadata": {},
     "output_type": "display_data"
    }
   ],
   "source": [
    "cm = confusion_matrix(y_test, y_pred_rf)\n",
    "ConfusionMatrixDisplay(cm).plot()\n",
    "plt.show()"
   ]
  },
  {
   "cell_type": "markdown",
   "id": "74a3dc4e",
   "metadata": {},
   "source": [
    "### precision,  recall,  f1-score"
   ]
  },
  {
   "cell_type": "code",
   "execution_count": 29,
   "id": "4c174c02",
   "metadata": {
    "scrolled": true
   },
   "outputs": [
    {
     "name": "stdout",
     "output_type": "stream",
     "text": [
      "Classification Report\n",
      "               precision    recall  f1-score   support\n",
      "\n",
      "           0       0.90      0.89      0.89       248\n",
      "           1       0.43      0.46      0.44        46\n",
      "\n",
      "    accuracy                           0.82       294\n",
      "   macro avg       0.66      0.67      0.67       294\n",
      "weighted avg       0.82      0.82      0.82       294\n",
      "\n"
     ]
    }
   ],
   "source": [
    "print(\"Classification Report\\n\", classification_report(y_test, y_pred_rf))"
   ]
  },
  {
   "cell_type": "markdown",
   "id": "9f4f67f2",
   "metadata": {},
   "source": [
    "# Gradient Boosting Model (GBM)"
   ]
  },
  {
   "cell_type": "code",
   "execution_count": 30,
   "id": "64aab6c6",
   "metadata": {},
   "outputs": [
    {
     "name": "stdout",
     "output_type": "stream",
     "text": [
      "Training score:  0.9447278911564626\n",
      "Testing score:  0.8707482993197279\n"
     ]
    }
   ],
   "source": [
    "from sklearn.ensemble import GradientBoostingClassifier\n",
    "gbm=GradientBoostingClassifier(criterion='friedman_mse', random_state=18, max_depth=3, min_samples_split=40)\n",
    "gbm.fit(x_train,y_train)\n",
    "model_gbm_score_train = gbm.score(x_train, y_train)\n",
    "print(\"Training score: \", model_gbm_score_train)\n",
    "model_gbm_score_test = gbm.score(x_test, y_test)\n",
    "print(\"Testing score: \", model_gbm_score_test)"
   ]
  },
  {
   "cell_type": "code",
   "execution_count": 31,
   "id": "20c4788f",
   "metadata": {},
   "outputs": [],
   "source": [
    "# predicitons\n",
    "y_pred_gbm=gbm.predict(x_test)"
   ]
  },
  {
   "cell_type": "markdown",
   "id": "537507e4",
   "metadata": {},
   "source": [
    "# 3.1 Performance Metrics\n",
    "### AUC"
   ]
  },
  {
   "cell_type": "code",
   "execution_count": 32,
   "id": "41a85523",
   "metadata": {},
   "outputs": [
    {
     "data": {
      "text/plain": [
       "0.6577840112201964"
      ]
     },
     "execution_count": 32,
     "metadata": {},
     "output_type": "execute_result"
    }
   ],
   "source": [
    "fpr_gbm, tpr_gbm, _ = roc_curve(y_test, y_pred_gbm)\n",
    "roc_auc_gbm = auc(fpr_gbm, tpr_gbm)\n",
    "roc_auc_gbm"
   ]
  },
  {
   "cell_type": "code",
   "execution_count": 33,
   "id": "c0955208",
   "metadata": {
    "scrolled": true
   },
   "outputs": [
    {
     "data": {
      "image/png": "[encoded data removed]",
      "text/plain": [
       "<Figure size 432x288 with 1 Axes>"
      ]
     },
     "metadata": {},
     "output_type": "display_data"
    }
   ],
   "source": [
    "from func_for_model import auc_chart\n",
    "auc_chart(fpr_gbm, tpr_gbm, roc_auc_gbm)"
   ]
  },
  {
   "cell_type": "markdown",
   "id": "d807391f",
   "metadata": {},
   "source": [
    "### Confusion Matrix"
   ]
  },
  {
   "cell_type": "code",
   "execution_count": 34,
   "id": "fcfd7f38",
   "metadata": {
    "scrolled": true
   },
   "outputs": [
    {
     "data": {
      "image/png": "[encoded data removed]",
      "text/plain": [
       "<Figure size 432x288 with 2 Axes>"
      ]
     },
     "metadata": {},
     "output_type": "display_data"
    }
   ],
   "source": [
    "cm = confusion_matrix(y_test, y_pred_gbm)\n",
    "ConfusionMatrixDisplay(cm).plot()\n",
    "plt.show()"
   ]
  },
  {
   "cell_type": "markdown",
   "id": "01c0ef0f",
   "metadata": {},
   "source": [
    "### precision, recall,  f1-score"
   ]
  },
  {
   "cell_type": "code",
   "execution_count": 35,
   "id": "b6cb0a81",
   "metadata": {},
   "outputs": [
    {
     "name": "stdout",
     "output_type": "stream",
     "text": [
      "Classification Report\n",
      "               precision    recall  f1-score   support\n",
      "\n",
      "           0       0.89      0.97      0.93       248\n",
      "           1       0.67      0.35      0.46        46\n",
      "\n",
      "    accuracy                           0.87       294\n",
      "   macro avg       0.78      0.66      0.69       294\n",
      "weighted avg       0.85      0.87      0.85       294\n",
      "\n"
     ]
    }
   ],
   "source": [
    "print(\"Classification Report\\n\", classification_report(y_test, y_pred_gbm))"
   ]
  },
  {
   "cell_type": "markdown",
   "id": "2369db0f",
   "metadata": {},
   "source": [
    "                                             **************************************"
   ]
  }
 ],
 "metadata": {
  "kernelspec": {
   "display_name": "Python 3 (ipykernel)",
   "language": "python",
   "name": "python3"
  },
  "language_info": {
   "codemirror_mode": {
    "name": "ipython",
    "version": 3
   },
   "file_extension": ".py",
   "mimetype": "text/x-python",
   "name": "python",
   "nbconvert_exporter": "python",
   "pygments_lexer": "ipython3",
   "version": "3.9.7"
  }
 },
 "nbformat": 4,
 "nbformat_minor": 5
}
